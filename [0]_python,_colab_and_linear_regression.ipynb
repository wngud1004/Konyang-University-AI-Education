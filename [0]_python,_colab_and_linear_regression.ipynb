{
  "nbformat": 4,
  "nbformat_minor": 0,
  "metadata": {
    "colab": {
      "provenance": [],
      "include_colab_link": true
    },
    "kernelspec": {
      "name": "python3",
      "display_name": "Python 3"
    },
    "language_info": {
      "name": "python"
    }
  },
  "cells": [
    {
      "cell_type": "markdown",
      "metadata": {
        "id": "view-in-github",
        "colab_type": "text"
      },
      "source": [
        "<a href=\"https://colab.research.google.com/github/wngud1004/Konyang-University-AI-Education/blob/main/%5B0%5D_python%2C_colab_and_linear_regression.ipynb\" target=\"_parent\"><img src=\"https://colab.research.google.com/assets/colab-badge.svg\" alt=\"Open In Colab\"/></a>"
      ]
    },
    {
      "cell_type": "code",
      "source": [
        "name='한주혁'\n",
        "score=60\n",
        "\n",
        "print('학생의 이름은',name,'이고 점수는', score,'점 입니다.')"
      ],
      "metadata": {
        "colab": {
          "base_uri": "https://localhost:8080/"
        },
        "id": "gznHP4jucAjv",
        "outputId": "c5ad8a3d-f6d0-443b-a353-447e6da0143c"
      },
      "execution_count": null,
      "outputs": [
        {
          "output_type": "stream",
          "name": "stdout",
          "text": [
            "학생의 이름은 한주혁 이고 점수는 60 점 입니다.\n"
          ]
        }
      ]
    },
    {
      "cell_type": "code",
      "source": [
        "score_list = [['한주혁', 60,'남']\n",
        "              ,['권지희', 100, '여']]\n",
        "print('학생의 이름은',score_list[1][1])\n",
        "      #,'이고 점수는', score_list[1][1],'점 입니다.')"
      ],
      "metadata": {
        "colab": {
          "base_uri": "https://localhost:8080/"
        },
        "id": "R-Z-DbTHcAIH",
        "outputId": "93b047b8-ab10-405d-c975-1de62b71c47c"
      },
      "execution_count": null,
      "outputs": [
        {
          "output_type": "stream",
          "name": "stdout",
          "text": [
            "학생의 이름은 100\n"
          ]
        }
      ]
    },
    {
      "cell_type": "code",
      "source": [
        "print(score_list)"
      ],
      "metadata": {
        "colab": {
          "base_uri": "https://localhost:8080/"
        },
        "id": "Q4ymseuPfzyE",
        "outputId": "0703f117-2eed-4eb9-be86-0aaafccd0a0a"
      },
      "execution_count": null,
      "outputs": [
        {
          "output_type": "stream",
          "name": "stdout",
          "text": [
            "[['한주혁', 60, '남'], ['권지희', 100, '여']]\n"
          ]
        }
      ]
    },
    {
      "cell_type": "code",
      "source": [
        "#print(score_list)\n",
        "print(score_list[:][0])"
      ],
      "metadata": {
        "colab": {
          "base_uri": "https://localhost:8080/"
        },
        "id": "KcNXiVIigFH5",
        "outputId": "153155bb-0841-4161-9faa-236c89ec9f59"
      },
      "execution_count": null,
      "outputs": [
        {
          "output_type": "stream",
          "name": "stdout",
          "text": [
            "['한주혁', 60, '남']\n"
          ]
        }
      ]
    },
    {
      "cell_type": "code",
      "source": [
        "score_list = [['한', 60, '남']\n",
        "              ,['권', 20, '여']\n",
        "              ,['홍', 75, '여']\n",
        "              ,['김', 90, '남']\n",
        "              ,['박', 10, '남']\n",
        "              ,['최', 80, '남']]"
      ],
      "metadata": {
        "id": "XR0E6wm6JtJB"
      },
      "execution_count": null,
      "outputs": []
    },
    {
      "cell_type": "code",
      "source": [
        "for i in range(len(score_list[:5])):\n",
        "  print(i)"
      ],
      "metadata": {
        "colab": {
          "base_uri": "https://localhost:8080/"
        },
        "id": "3svpaa_lNwSq",
        "outputId": "69fd936f-8836-487f-9408-3eaedc320b73"
      },
      "execution_count": null,
      "outputs": [
        {
          "output_type": "stream",
          "name": "stdout",
          "text": [
            "0\n",
            "1\n",
            "2\n",
            "3\n",
            "4\n"
          ]
        }
      ]
    },
    {
      "cell_type": "code",
      "source": [
        "score_list = [['한', 60,'남']\n",
        "              ,['권', 10, '여']\n",
        "              ,['홍1', 81, '남']\n",
        "              ,['홍2', 82, '여']\n",
        "              ,['홍3', 83, '여']\n",
        "              ,['홍4', 84, '남']\n",
        "              ,['홍5', 85, '남']\n",
        "              ,['홍6', 86, '여']\n",
        "              ,['홍7', 87, '여']\n",
        "              ,['홍8', 88, '여']]\n",
        "#남자: 4, 여자: 6\n",
        "\n",
        "#print(score_list)\n",
        "\n",
        "## 반복문: 반복 수행하는 명령어\n",
        "for i in score_list:\n",
        "  print(i)\n",
        "  ## 조건문: 특정 조건에 따라 동작하는 명령어\n",
        "  if i[0] == '한':\n",
        "    print('남자입니다.')"
      ],
      "metadata": {
        "colab": {
          "base_uri": "https://localhost:8080/"
        },
        "id": "wpAuEvpthc3_",
        "outputId": "d9d7a1bf-702d-4edc-b59d-ffa5d2da439c"
      },
      "execution_count": null,
      "outputs": [
        {
          "output_type": "stream",
          "name": "stdout",
          "text": [
            "['한', 60, '남']\n",
            "남자입니다.\n",
            "['권', 10, '여']\n",
            "['홍1', 81, '남']\n",
            "['홍2', 82, '여']\n",
            "['홍3', 83, '여']\n",
            "['홍4', 84, '남']\n",
            "['홍5', 85, '남']\n",
            "['홍6', 86, '여']\n",
            "['홍7', 87, '여']\n",
            "['홍8', 88, '여']\n"
          ]
        }
      ]
    },
    {
      "cell_type": "markdown",
      "source": [
        "#### 함수 f(x) 만들기"
      ],
      "metadata": {
        "id": "4H9IjydhMPEq"
      }
    },
    {
      "cell_type": "code",
      "source": [
        "import numpy as np"
      ],
      "metadata": {
        "id": "knRQTYLmfnPf"
      },
      "execution_count": null,
      "outputs": []
    },
    {
      "cell_type": "code",
      "source": [
        "x = np.array([2, 4, 6, 8])\n",
        "y = np.array([81, 93, 91, 97])\n",
        "print(x)"
      ],
      "metadata": {
        "colab": {
          "base_uri": "https://localhost:8080/"
        },
        "id": "H403jzTDMCls",
        "outputId": "84a18fdd-5506-4243-9720-0dacc11be0b1"
      },
      "execution_count": null,
      "outputs": [
        {
          "output_type": "stream",
          "name": "stdout",
          "text": [
            "[2 4 6 8]\n"
          ]
        }
      ]
    },
    {
      "cell_type": "code",
      "source": [
        "mx = np.mean(x)\n",
        "my = np.mean(y)\n",
        "print(\"x 평균:\", mx)\n",
        "print(\"y 평균:\", my)"
      ],
      "metadata": {
        "colab": {
          "base_uri": "https://localhost:8080/"
        },
        "id": "h3GHYltdMDRs",
        "outputId": "6fae52d6-574f-4750-8bfb-ee7bdc196119"
      },
      "execution_count": null,
      "outputs": [
        {
          "output_type": "stream",
          "name": "stdout",
          "text": [
            "x 평균: 5.0\n",
            "y 평균: 90.5\n"
          ]
        }
      ]
    },
    {
      "cell_type": "code",
      "source": [
        "divisor = sum([(i - mx)**2 for i in x])\n",
        "print(divisor)\n",
        "\n",
        "def top(x, mx, y, my):\n",
        "    d = 0\n",
        "    for i in range(len(x)):\n",
        "        d += (x[i] - mx) * (y[i] - my)\n",
        "    return d\n",
        "dividend = top(x, mx, y, my)\n",
        "print(\"분모:\", divisor)\n",
        "print(\"분자:\", dividend)"
      ],
      "metadata": {
        "colab": {
          "base_uri": "https://localhost:8080/"
        },
        "id": "FOgtGblJMDYM",
        "outputId": "d398f543-6df5-4b93-a2c6-71e95bfde6b3"
      },
      "execution_count": null,
      "outputs": [
        {
          "output_type": "stream",
          "name": "stdout",
          "text": [
            "20.0\n",
            "분모: 20.0\n",
            "분자: 46.0\n"
          ]
        }
      ]
    },
    {
      "cell_type": "code",
      "source": [
        "w = dividend / divisor\n",
        "b = my - (mx*w)\n",
        "\n",
        "print(\"기울기 =\", w)\n",
        "print(\"y절편 =\", b)"
      ],
      "metadata": {
        "colab": {
          "base_uri": "https://localhost:8080/"
        },
        "id": "NgAvtEdnMDfM",
        "outputId": "461ecbeb-ab6f-437c-ae0f-bb16d42325f9"
      },
      "execution_count": null,
      "outputs": [
        {
          "output_type": "stream",
          "name": "stdout",
          "text": [
            "기울기 = 2.3\n",
            "y절편 = 79.0\n"
          ]
        }
      ]
    },
    {
      "cell_type": "code",
      "source": [
        "# y = 2.3x + 79 // 초록색 작성X\n",
        "dx = 7\n",
        "fx = (2.3*dx) + 79\n",
        "print(fx)\n",
        "\n",
        "fx = 100\n",
        "dx = (fx - 79)/2.3\n",
        "print(dx)"
      ],
      "metadata": {
        "colab": {
          "base_uri": "https://localhost:8080/"
        },
        "id": "uIy_snJfMDjM",
        "outputId": "bcda38f3-8c16-4058-8496-07573411b698"
      },
      "execution_count": null,
      "outputs": [
        {
          "output_type": "stream",
          "name": "stdout",
          "text": [
            "95.1\n",
            "9.130434782608697\n"
          ]
        }
      ]
    },
    {
      "cell_type": "code",
      "source": [
        "g = []\n",
        "for i in x:\n",
        "  fx = (2.3*i) + 79\n",
        "  g.append(fx)\n",
        "\n",
        "gx = np.copy(x)\n",
        "gx = list(gx)\n",
        "gx.pop(1)\n",
        "gx.pop(1)\n",
        "g.pop(1)\n",
        "g.pop(1)\n",
        "print(g, gx)"
      ],
      "metadata": {
        "colab": {
          "base_uri": "https://localhost:8080/"
        },
        "id": "D4HiMTYNMDmc",
        "outputId": "eef547b2-ce19-4398-ab2e-d7322c91c1a3"
      },
      "execution_count": null,
      "outputs": [
        {
          "output_type": "stream",
          "name": "stdout",
          "text": [
            "[83.6, 97.4] [2, 8]\n"
          ]
        }
      ]
    },
    {
      "cell_type": "code",
      "source": [
        "# 함수는 f(x) = 2.3x+79\n",
        "from matplotlib import pyplot as plt\n",
        "plt.plot(x,y,'*')\n",
        "plt.plot(gx,g)\n",
        "plt.xlabel('Time')\n",
        "plt.ylabel(\"Score\")\n",
        "plt.show()"
      ],
      "metadata": {
        "colab": {
          "base_uri": "https://localhost:8080/",
          "height": 449
        },
        "id": "U1-aRHIlMDpc",
        "outputId": "85374065-52e4-4684-f617-a44f6147f28b"
      },
      "execution_count": null,
      "outputs": [
        {
          "output_type": "display_data",
          "data": {
            "text/plain": [
              "<Figure size 640x480 with 1 Axes>"
            ],
            "image/png": "[encoded data removed]"
          },
          "metadata": {}
        }
      ]
    },
    {
      "cell_type": "markdown",
      "source": [
        "#### 선형 회귀 모델: 먼저 긋고 수정하기"
      ],
      "metadata": {
        "id": "l3ZBN63kMfRW"
      }
    },
    {
      "cell_type": "markdown",
      "source": [
        "#### linear regression"
      ],
      "metadata": {
        "id": "oW952bFsM9px"
      }
    },
    {
      "cell_type": "code",
      "source": [
        "# 기울기 w와 절편 b의 값을 초기화합니다.\n",
        "w = 0\n",
        "b = 0\n",
        "\n",
        "# 학습률을 정합니다.\n",
        "learning_rate = 0.03\n",
        "\n",
        "# 몇 번 반복될지 설정합니다.\n",
        "epochs = 2001\n",
        "\n",
        "# x 값이 총 몇 개인지 셉니다.\n",
        "n=len(x)\n",
        "\n",
        "# 경사 하강법을 시작합니다.\n",
        "for i in range(10):\n",
        "    y_pred = w * x + b\n",
        "    error = y - y_pred\n",
        "\n",
        "    w_diff = (2/n) * sum(-x * (error))\n",
        "    b_diff = (2/n) * sum(-(error))\n",
        "\n",
        "    w = w - learning_rate * w_diff\n",
        "    b = b - learning_rate * b_diff\n",
        "\n",
        "    print(\"epoch=%.f, 기울기=%.4f,절편=%.4f\" % (i, w, b))"
      ],
      "metadata": {
        "colab": {
          "base_uri": "https://localhost:8080/"
        },
        "id": "mVNxNi5zMD2M",
        "outputId": "bcbbc65b-09a9-4563-d843-de14434715db"
      },
      "execution_count": null,
      "outputs": [
        {
          "output_type": "stream",
          "name": "stdout",
          "text": [
            "epoch=0, 기울기=27.8400,절편=5.4300\n",
            "epoch=1, 기울기=3.9390,절편=2.1822\n",
            "epoch=2, 기울기=24.0341,절편=6.2996\n",
            "epoch=3, 기울기=6.7228,절편=4.1414\n",
            "epoch=4, 기울기=21.2193,절편=7.3060\n",
            "epoch=5, 기울기=8.6727,절편=5.9319\n",
            "epoch=6, 기울기=19.1223,절편=8.4041\n",
            "epoch=7, 기울기=10.0209,절편=7.5932\n",
            "epoch=8, 기울기=17.5453,절편=9.5613\n",
            "epoch=9, 기울기=10.9354,절편=9.1541\n"
          ]
        }
      ]
    }
  ]
}